{
 "cells": [
  {
   "cell_type": "markdown",
   "id": "2cba724c-d3d0-4341-b22c-343addf3f54c",
   "metadata": {},
   "source": [
    "### Nombre: Irvin Tum\n",
    "### Carnet :24008922"
   ]
  },
  {
   "cell_type": "markdown",
   "id": "cec1a0c0-7d22-4b1a-81e1-3783ad2bc7a5",
   "metadata": {},
   "source": [
    "# Laboratorio #1 - (Git &. Github)"
   ]
  },
  {
   "cell_type": "markdown",
   "id": "fae51af8-af01-4012-bd63-98648186f01b",
   "metadata": {
    "jp-MarkdownHeadingCollapsed": true,
    "tags": []
   },
   "source": [
    "## ¿Qué es git?"
   ]
  },
  {
   "cell_type": "markdown",
   "id": "7ba49285-ca75-499c-ac51-79fa428e8773",
   "metadata": {},
   "source": [
    "Es el sistema de control de versiones moderno más utilizado del mundo. Git es un proyecto de código abierto maduro y con un mantenimiento activo que desarrolló originalmente Linus Torvalds, el famoso creador del kernel del sistema operativo Linux, en 2005."
   ]
  },
  {
   "cell_type": "markdown",
   "id": "8f4b44a9-eaf9-493d-b5af-f725308d33ca",
   "metadata": {},
   "source": [
    "> Permite gestionar y controlar las versiones de un proyecto de software.\n",
    "> Permite rastrear los cambios realizados en los archivos.\n",
    "> Cordinar el trabajo entre diferentes personas en un equipo de desarrollo y revertir cambios si es necesario."
   ]
  },
  {
   "cell_type": "markdown",
   "id": "87de1e77-ee2a-4676-acc5-72c3a7211b07",
   "metadata": {},
   "source": [
    ">### Algunas características \n",
    "> 1. Control de version distribuida.\n",
    "> 2. Ramificación y fusión.\n",
    "> 3. Historial completo de cambios.\n",
    "> 4. Velocidad y rendimiento.\n",
    "> 5. Comandos intuitivos."
   ]
  },
  {
   "cell_type": "markdown",
   "id": "bdca0b6f-7d3f-444b-b0ae-794388e5735e",
   "metadata": {},
   "source": [
    "Esta es una diferencia importante entre Git y prácticamente todos los demás VCS. Hace que Git reconsidere casi todos los aspectos del control de versiones que muchos de los demás sistemas copiaron de la generación anterior. Esto hace que Git se parezca más a un sistema de archivos miniatura con algunas herramientas tremendamente poderosas desarrolladas sobre él, que a un VCS. "
   ]
  },
  {
   "cell_type": "markdown",
   "id": "bac76ef9-e5dd-409c-ac95-104492519c8d",
   "metadata": {
    "tags": []
   },
   "source": [
    "![Tiempo](https://git-scm.com/book/en/v2/images/snapshots.png)"
   ]
  },
  {
   "cell_type": "markdown",
   "id": "97eb364d-13a4-4a60-ab32-f57c0a4b1f27",
   "metadata": {},
   "source": [
    ">## Los Tres Estados"
   ]
  },
  {
   "cell_type": "markdown",
   "id": "39eba80a-61ad-4ad3-909a-7da35b53d5c0",
   "metadata": {
    "tags": []
   },
   "source": [
    "| Estado      | Descripcion |\n",
    "| ----------- | ----------- |\n",
    "| Confirmado      | significa que los datos están almacenados de manera segura en tu base de datos local.        |\n",
    "| Modificado   | significa que has modificado el archivo pero todavía no lo has confirmado a tu base de datos.         |\n",
    "| Preparado   | significa que has marcado un archivo modificado en su versión actual para que vaya en tu próxima confirmación.       |"
   ]
  },
  {
   "cell_type": "markdown",
   "id": "4b3addbe-b5f3-4cef-bab4-8637a9097eca",
   "metadata": {
    "tags": []
   },
   "source": [
    "# ¿Qué es Git Hub?"
   ]
  },
  {
   "cell_type": "markdown",
   "id": "95c50f08-8c0e-41a8-93b6-16e4202c3245",
   "metadata": {
    "tags": []
   },
   "source": [
    "![](https://i.blogs.es/bd50eb/github_logo/1366_2000.png)"
   ]
  },
  {
   "cell_type": "markdown",
   "id": "f3fbe50b-4435-4ec6-ba49-359bce878db1",
   "metadata": {},
   "source": [
    ">Se trata de un repositorio online gratuito que nos ofrece la posibilidad de gestionar proyectos y controlar versiones de código y de esa manera, almacenar los trabajos y colaborar con millones de personas en todo el mundo.‍"
   ]
  },
  {
   "cell_type": "markdown",
   "id": "0b5e7c02-10f3-4262-8f21-06c86fd6cb68",
   "metadata": {},
   "source": [
    "Si hacemos una comparación simple, Github sería algo así como la red social de los desarrolladores, y dentro de este sector, una de las más usadas a nivel internacional."
   ]
  },
  {
   "cell_type": "markdown",
   "id": "4da70024-08ca-45f9-ad28-5f0302956638",
   "metadata": {},
   "source": [
    ">Repositorio\n",
    "‍Cuando hacemos referencia a un repositorio, lo hacemos a la ubicación en la que se aloja toda la información de un proyecto (imágenes, código, documentos, etc.)‍Todos los proyectos tienen su propio repositorio único y su acceso será exclusivo para cada uno de ellos.‍"
   ]
  },
  {
   "cell_type": "markdown",
   "id": "1b14d264-873c-4bef-8172-3775fa487a02",
   "metadata": {},
   "source": [
    ">Branch (ramificaciones)\n",
    "‍Si tenemos la necesidad de acceder y modificar solo una parte en concreto de nuestro proyecto, sin que se vea afectado el repositorio principal, lo haremos  mediante Branch"
   ]
  },
  {
   "cell_type": "markdown",
   "id": "be800334-7ace-426c-ad54-e44ac21e0556",
   "metadata": {},
   "source": [
    "> proyecto con la que podremos hacer pruebas sin temor a equivocarnos y que podamos estropear el trabajo realizado previamente.‍"
   ]
  },
  {
   "cell_type": "markdown",
   "id": "c1256644-c0cc-4979-b516-f383f9aaea23",
   "metadata": {},
   "source": [
    ">Pull Request (Fusión)\n",
    "‍Cuando se sube un nuevo cambio en una rama del proyecto, tenemos la opción de avisar al resto de colaboradores para que validen o el pull request, incluso que puedan hacer comentarios sobre posibles mejoras.‍"
   ]
  },
  {
   "cell_type": "markdown",
   "id": "88d2899e-7141-468a-abca-6913ad5c4b92",
   "metadata": {},
   "source": [
    ">Tag\n",
    "‍Con los Tag controlaremos el estado de un repositorio proporcionando información al resto de los usuarios de en qué versión está el proyecto en ese momento."
   ]
  },
  {
   "cell_type": "code",
   "execution_count": null,
   "id": "8c6aa403-9169-4793-8277-87ee7f8d841f",
   "metadata": {},
   "outputs": [],
   "source": []
  }
 ],
 "metadata": {
  "kernelspec": {
   "display_name": "Python 3 (ipykernel)",
   "language": "python",
   "name": "python3"
  },
  "language_info": {
   "codemirror_mode": {
    "name": "ipython",
    "version": 3
   },
   "file_extension": ".py",
   "mimetype": "text/x-python",
   "name": "python",
   "nbconvert_exporter": "python",
   "pygments_lexer": "ipython3",
   "version": "3.11.5"
  }
 },
 "nbformat": 4,
 "nbformat_minor": 5
}
